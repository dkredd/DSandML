{
 "cells": [
  {
   "cell_type": "code",
   "execution_count": 106,
   "id": "9411ac37",
   "metadata": {},
   "outputs": [
    {
     "name": "stdout",
     "output_type": "stream",
     "text": [
      "[[1 2 3]\n",
      " [4 5 6]]--- ,Ndim = 2, Shape = (2, 3), Size = 6,dtype = int64\n"
     ]
    }
   ],
   "source": [
    "\"\"\"\"This notebook provides an overview of frequently used numpy module commands\n",
    "along with an example of how to split train test data for machine learning models\"\"\"\n",
    "\n",
    "import numpy as np\n",
    "import random as r\n",
    "\n",
    "x = np.array([[1,2,3],[4,5,6]])\n",
    "print(\"{}--- ,Ndim = {}, Shape = {}, Size = {},dtype = {}\".format(x,x.ndim,x.shape,x.size,x.dtype))\n"
   ]
  },
  {
   "cell_type": "code",
   "execution_count": 75,
   "id": "c77d8593",
   "metadata": {},
   "outputs": [
    {
     "name": "stdout",
     "output_type": "stream",
     "text": [
      "[[1 2 3]\n",
      " [4 5 6]]\n"
     ]
    }
   ],
   "source": [
    "np.save('nptest',x)\n",
    "y = np.load('nptest.npy')\n",
    "print(y)"
   ]
  },
  {
   "cell_type": "code",
   "execution_count": 76,
   "id": "2d6300a3",
   "metadata": {},
   "outputs": [
    {
     "name": "stdout",
     "output_type": "stream",
     "text": [
      "[[0. 0. 0.]\n",
      " [0. 0. 0.]]\n",
      "[[1. 1. 1.]\n",
      " [1. 1. 1.]\n",
      " [1. 1. 1.]\n",
      " [1. 1. 1.]]\n",
      "[[1. 0. 0. 0.]\n",
      " [0. 1. 0. 0.]\n",
      " [0. 0. 1. 0.]\n",
      " [0. 0. 0. 1.]]\n",
      "[[8 8 8 8]\n",
      " [8 8 8 8]]\n",
      "[[ 5  0  0]\n",
      " [ 0  7  0]\n",
      " [ 0  0 11]]\n"
     ]
    }
   ],
   "source": [
    "#use np filler functions\n",
    "a = np.zeros((2,3))\n",
    "print(a)\n",
    "\n",
    "a = np.ones((4,3))\n",
    "print(a)\n",
    "\n",
    "a = np.identity(4)\n",
    "print(a)\n",
    "\n",
    "a = np.full((2,4),8)\n",
    "print(a)\n",
    "\n",
    "a = np.diag([5,7,11])\n",
    "print(a)\n"
   ]
  },
  {
   "cell_type": "code",
   "execution_count": 77,
   "id": "6dd19de0",
   "metadata": {},
   "outputs": [
    {
     "name": "stdout",
     "output_type": "stream",
     "text": [
      "[ 0  2  4  6  8 10 12 14]\n",
      "<class 'numpy.ndarray'>\n"
     ]
    }
   ],
   "source": [
    "x = np.arange(0,15,2)\n",
    "print(x)\n",
    "print(type(x))"
   ]
  },
  {
   "cell_type": "code",
   "execution_count": 78,
   "id": "4063e36e",
   "metadata": {},
   "outputs": [
    {
     "name": "stdout",
     "output_type": "stream",
     "text": [
      "[[ 0  1  2  3  4]\n",
      " [ 5  6  7  8  9]\n",
      " [10 11 12 13 14]\n",
      " [15 16 17 18 19]\n",
      " [20 21 22 23 24]]\n"
     ]
    }
   ],
   "source": [
    "#reshape\n",
    "x = np.arange(25).reshape(5,5)\n",
    "print(x)"
   ]
  },
  {
   "cell_type": "code",
   "execution_count": 79,
   "id": "c255269e",
   "metadata": {},
   "outputs": [
    {
     "name": "stdout",
     "output_type": "stream",
     "text": [
      "[[0.18499329 0.09745892 0.43034167]\n",
      " [0.41014144 0.29337645 0.55064777]]\n",
      "[[ 2 10 10]\n",
      " [ 3  3  5]]\n",
      "0.36971982306994466 - -0.32911674677971553 - -0.0002621169442840679\n"
     ]
    }
   ],
   "source": [
    "#random fill\n",
    "x = np.random.random((2,3))\n",
    "print(x)\n",
    "\n",
    "x = np.random.randint(1,12,(2,3))\n",
    "print(x)\n",
    "\n",
    "x = np.random.normal(0,0.1,(100,100))\n",
    "print(\"{} - {} - {}\".format(x.max(),x.min(),x.mean()))"
   ]
  },
  {
   "cell_type": "code",
   "execution_count": 80,
   "id": "9723932a",
   "metadata": {},
   "outputs": [
    {
     "name": "stdout",
     "output_type": "stream",
     "text": [
      "[1 2 3]\n",
      "[1 2 3 6 7 8]\n",
      "[1 2 3 6 7]\n",
      "[1 2 2 2 3 6 7]\n",
      "[[10 11 12]\n",
      " [13 14 15]]\n",
      "[[10 11 12]\n",
      " [13 14 15]\n",
      " [16 17 18]]\n",
      "[[10 11 12  1]\n",
      " [13 14 15  2]\n",
      " [16 17 18  3]]\n",
      "[[10 11  6 12  1]\n",
      " [13 14  5 15  2]\n",
      " [16 17  4 18  3]]\n"
     ]
    }
   ],
   "source": [
    "oned = np.array([1,2,3])\n",
    "print(oned)\n",
    "oned = np.append(oned,[6,7,8])\n",
    "print(oned)\n",
    "oned = np.delete(oned,5)\n",
    "print(oned)\n",
    "oned = np.insert(oned,1,[2,2])\n",
    "print(oned)\n",
    "\n",
    "\n",
    "twod = np.array([[10,11,12],[13,14,15]])\n",
    "print(twod)\n",
    "twod = np.append(twod,[[16,17,18]],axis=0)\n",
    "print(twod)\n",
    "twod = np.append(twod,[[1],[2],[3]],axis=1)\n",
    "print(twod)\n",
    "twod = np.insert(twod,2,[[6,5,4]],axis=1)\n",
    "print(twod)\n",
    "\n",
    "\n"
   ]
  },
  {
   "cell_type": "code",
   "execution_count": 81,
   "id": "aef3c621",
   "metadata": {},
   "outputs": [
    {
     "name": "stdout",
     "output_type": "stream",
     "text": [
      "[[ 0  1  2  3  4]\n",
      " [ 5  6  7  8  9]\n",
      " [10 11 12 13 14]\n",
      " [15 16 17 18 19]\n",
      " [20 21 22 23 24]]\n",
      "[[ 7  8  9]\n",
      " [12 13 14]]\n",
      "[[  7   8   9]\n",
      " [100  13  14]]\n",
      "[[ 0  1  2  3  4]\n",
      " [ 5  6  7  8  9]\n",
      " [10 11 12 13 14]\n",
      " [15 16 17 18 19]\n",
      " [20 21 22 23 24]]\n",
      "Diag\n",
      " [ 0  6 12 18 24]\n",
      "Diag Above\n",
      " [ 1  7 13 19]\n",
      "Diag Be;low\n",
      " [ 5 11 17 23]\n",
      "[[ 0  1  2  3  4]\n",
      " [ 5  6  7  8  9]\n",
      " [10 11 12 13 14]\n",
      " [15 16 17 18 19]\n",
      " [20 21 22 23 24]\n",
      " [ 5  6  7  8  9]]\n",
      "[ 0  1  2  3  4  5  6  7  8  9 10 11 12 13 14 15 16 17 18 19 20 21 22 23\n",
      " 24]\n"
     ]
    }
   ],
   "source": [
    "#slicing arrays and deep copy\n",
    "x = np.arange(25).reshape(5,5)\n",
    "print(x)\n",
    "\n",
    "s = np.copy(x[1:3,2:])\n",
    "print(s)\n",
    "\n",
    "s[1,0] = 100\n",
    "print(s)\n",
    "print(x)\n",
    "\n",
    "#print diagnoal elements of numpy array\n",
    "print(\"Diag\\n\", np.diag(x))\n",
    "print(\"Diag Above\\n\", np.diag(x,k=1))\n",
    "print(\"Diag Be;low\\n\", np.diag(x,k=-1))\n",
    "\n",
    "\n",
    "#Vertially stack the x array\n",
    "\n",
    "y = np.array([5,6,7,8,9])\n",
    "x = np.vstack((x,y))\n",
    "print(x)\n",
    "\n",
    "#print unique array elements\n",
    "print(np.unique(x))"
   ]
  },
  {
   "cell_type": "code",
   "execution_count": 86,
   "id": "ee5948fc",
   "metadata": {},
   "outputs": [
    {
     "name": "stdout",
     "output_type": "stream",
     "text": [
      "[[ 0  1  2  3  4]\n",
      " [ 5  6  7  8  9]\n",
      " [10 11 12 13 14]\n",
      " [15 16 17 18 19]]\n",
      "[ 0  1 11 12 13 14 15 16 17 18 19]\n",
      "[0 1 2 3 4 5 6 7 8 9]\n",
      "[10]\n",
      "[[23 14 22  3]\n",
      " [13  9 16  7]\n",
      " [21 10 11 11]\n",
      " [ 7 23 20 21]]\n",
      "Sorted \n",
      " [[ 7  9 11  3]\n",
      " [13 10 16  7]\n",
      " [21 14 20 11]\n",
      " [23 23 22 21]]\n"
     ]
    }
   ],
   "source": [
    "#boolean select and set operators\n",
    "a = np.arange(20).reshape(4,5)\n",
    "print(a)\n",
    "print(a[(a>10) | (a<2)])\n",
    "\n",
    "one = np.arange(10)\n",
    "two = np.arange(11)\n",
    "print(np.intersect1d(one,two))\n",
    "print(np.setdiff1d(two,one))\n",
    "\n",
    "b = np.random.randint(1,25,size=(4,4))\n",
    "print(b)\n",
    "print(\"Sorted \\n\", np.sort(b,axis=0))"
   ]
  },
  {
   "cell_type": "code",
   "execution_count": 93,
   "id": "391f98cf",
   "metadata": {},
   "outputs": [
    {
     "name": "stdout",
     "output_type": "stream",
     "text": [
      "[[1 2]\n",
      " [3 4]]\n",
      "[[5 6]\n",
      " [7 8]]\n",
      "[[2 3]\n",
      " [4 5]]\n",
      "[[ 6  8]\n",
      " [10 12]]\n",
      "Mean\n",
      " [2. 3.]\n",
      "Std\n",
      " [1. 1.]\n"
     ]
    }
   ],
   "source": [
    "#broadcasting\n",
    "\n",
    "a = np.array([1,2,3,4]).reshape(2,2)\n",
    "print(a)\n",
    "b = np.array([5,6,7,8]).reshape(2,2)\n",
    "print(b)\n",
    "\n",
    "\n",
    "#arthmetic operations\n",
    "print(a+1)\n",
    "print(a+b)\n",
    "\n",
    "#statistical operations\n",
    "print(\"Mean\\n\" , np.mean(a,axis=0))\n",
    "print(\"Std\\n\" , a.std(axis=0))"
   ]
  },
  {
   "cell_type": "code",
   "execution_count": 95,
   "id": "a20afaca",
   "metadata": {},
   "outputs": [
    {
     "name": "stdout",
     "output_type": "stream",
     "text": [
      "[[3018 4117 4268 ... 1181 3030 1149]\n",
      " [  56 3285 3567 ... 2164 1370  559]\n",
      " [ 699  146  571 ... 2299 1380 2352]\n",
      " ...\n",
      " [4973 1478 3656 ...  815 4029 1127]\n",
      " [2514 4425 4906 ... 4047  994 4591]\n",
      " [ 638 4572  178 ...  915 4581 4044]]\n"
     ]
    }
   ],
   "source": [
    "#Mean Normalization\n",
    "\n",
    "# Create a 1000 x 20 ndarray with random integers in the half-open interval [0, 5001).\n",
    "X = np.random.randint(0,5001,size=(1000,20))\n",
    "\n",
    "# print the shape of X\n",
    "print(X)"
   ]
  },
  {
   "cell_type": "code",
   "execution_count": 99,
   "id": "a103f99f",
   "metadata": {},
   "outputs": [
    {
     "name": "stdout",
     "output_type": "stream",
     "text": [
      "<class 'numpy.ndarray'> \n",
      " (20,) \n",
      " [2454.509 2511.988 2420.488 2523.465 2557.6   2493.224 2519.739 2539.969\n",
      " 2506.617 2537.028 2555.978 2488.656 2576.293 2463.789 2568.875 2377.955\n",
      " 2453.855 2546.603 2450.514 2399.727] \n",
      "\n",
      "<class 'numpy.ndarray'> \n",
      " (20,) \n",
      " [1416.02152523 1462.00094797 1457.078492   1404.70610406 1463.18061701\n",
      " 1450.21303946 1417.56082299 1428.09858905 1489.27783516 1476.03603114\n",
      " 1471.7763198  1464.83273641 1438.50512726 1459.48647218 1425.78219353\n",
      " 1427.1845252  1451.39806875 1461.20070059 1425.21043422 1433.47016588] \n",
      "\n",
      "[[ 0.39793957  1.09781871  1.2679564  ... -0.93457593  0.4065968\n",
      "  -0.87251694]\n",
      " [-1.69383654  0.52873564  0.78685672 ... -0.26184151 -0.75814348\n",
      "  -1.28410555]\n",
      " [-1.2397474  -1.6183218  -1.26931254 ... -0.16945174 -0.75112697\n",
      "  -0.03329473]\n",
      " ...\n",
      " [ 1.7785683  -0.70724168  0.84793785 ... -1.18505487  1.10754592\n",
      "  -0.88786431]\n",
      " [ 0.04201278  1.30848889  1.70581888 ...  1.02682472 -1.02196417\n",
      "   1.52864918]\n",
      " [-1.28282584  1.40903602 -1.53903034 ... -1.116618    1.49485714\n",
      "   1.14705771]]\n"
     ]
    }
   ],
   "source": [
    "# Average of the values in each column of X\n",
    "ave_cols = np.mean(X, axis=0)\n",
    "print(\"{} \\n {} \\n {} \\n\".format(type(ave_cols),ave_cols.shape, ave_cols))\n",
    "\n",
    "# Standard Deviation of the values in each column of X\n",
    "std_cols = np.std(X, axis = 0)\n",
    "print(\"{} \\n {} \\n {} \\n\".format(type(std_cols),std_cols.shape, std_cols))\n",
    "\n",
    "# Mean normalize X actually Z scores..\n",
    "X_norm = (X-ave_cols)/std_cols\n",
    "print(X_norm)"
   ]
  },
  {
   "cell_type": "code",
   "execution_count": 102,
   "id": "e2449ec6",
   "metadata": {},
   "outputs": [
    {
     "name": "stdout",
     "output_type": "stream",
     "text": [
      "-1.2789769243681803e-17\n",
      "-1.7243906730023393\n",
      "[-1.72773433 -1.71750094 -1.65981998 -1.79501249 -1.74523908 -1.71438536\n",
      " -1.77399019 -1.77506582 -1.68310905 -1.71474676 -1.736662   -1.69552191\n",
      " -1.79025639 -1.67852806 -1.7975221  -1.66618609 -1.69068366 -1.74007787\n",
      " -1.71449348 -1.67127789]\n",
      "1.7287722629811615\n"
     ]
    }
   ],
   "source": [
    "# Print the average of all the values of X_norm\n",
    "print(np.mean(X_norm))\n",
    "# Print the average of the minimum value in each column of X_norm\n",
    "print(X_norm.min(axis=0).mean())\n",
    "\n",
    "\n",
    "# Print the average of the maximum value in each column of X_norm\n",
    "print(X_norm.max(axis=0).mean())"
   ]
  },
  {
   "cell_type": "code",
   "execution_count": 103,
   "id": "0150f6a8",
   "metadata": {},
   "outputs": [
    {
     "name": "stdout",
     "output_type": "stream",
     "text": [
      "[408 219 564 625 921 137 574 884 188 416 417 518 668  74 255 239 636 252\n",
      " 242 332 107 868 280 244 538 961 719 109 774 383 312 210  68 827 906 582\n",
      " 241 483 579  61  54 889  53 389 286 516 758 524 117 131 940 745 589 324\n",
      " 804 505 298 994 861 139 966 830 850 721 386 132 112 193 350 116  14 552\n",
      " 998 205 805 596 769 910 347 714 665 264 357 345 813 420 892 521 310 177\n",
      " 893  21 233  84 471 101 677 828 348  50  57  31 425 896 396 335  38 191\n",
      " 544 615 422  98 527 652 224 909 653 397 201 465  93 797 952 680 898 163\n",
      " 166 442 443 227 479 710 679 262   9  26  92 553 959 455  35 841 733 336\n",
      " 903 375 973 369 922 882 435 678 728  23 988 168 234 173 212 812 997  76\n",
      " 627 427 740 726 304 528 871 706  25 647 343 523   5 144 337 778 730  29\n",
      " 289  24 380 330 174 874 379 474 816 870 927 561 796 590 613 587 992 344\n",
      " 243 691 248 477 925 429 533 439 807 700 707 473 551 844 182 829 482 363\n",
      " 676 206 395 965 684 803 490 781  83 847 955 319 683 436 135 156 306 352\n",
      " 571 140  89 934 376 401 309 159 891 835 125 412 646 185 446 492 434 890\n",
      " 712   1 151 526 840 478 697 172 818 943 932 878 349  82 846 121 825 584\n",
      " 917 788 598 351 458 128 367 919 496 963 604 208 368 970 438 617 713 382\n",
      " 817 305  32 667 648 148 547  48 154 517 237 195 834 801 894 392 723 876\n",
      "   7 314  63 364 616 150 431 303 565 954 378 645 602 747 300 696 568 100\n",
      " 170 767 765 130 760 939 794 595 184 106 424 463 641 855 594 537 472 924\n",
      " 285 266 110 190 263  79 873 601 576 974 660 307 409 578 414  15 863 938\n",
      " 327 440 999 295 887 223 642 972 964 701 944 503 991 971 923 741 204 356\n",
      "  49 339 635 340 918 267 633 158 105 499 329 766 688 355 833 711 277  43\n",
      " 391 546 612 399 751 265 322 555 232 449 220 656 402  88 659 606 717 550\n",
      "  17 620  46 771  91 374 501 608  85 819 978 780 373 867 432 459 342 950\n",
      " 916 695 217 493 393 937 763 875 211 545 444 815 600 221 715 142 810 951\n",
      " 640 913 512 196 743 448 607 433 619 644 134 643 832 777 388 566 215 120\n",
      "  64 560 428 462 171  45  72  73 708 907  80 912 857 638 372 720   4 762\n",
      " 292 985 129 933 699 806 164 749 681 525 628 259 969 851 213 791 146 879\n",
      " 975 254 671  16 437 685 987 658 354 820 273 920 821 655 253   2 540 519\n",
      " 664 962 404 377 387 328 901 581 281 837  41 111 145 748 593 181 338 682\n",
      " 860  86 657 930 301 323 293 621 911 554 729  51 802 787 666 567 843 246\n",
      " 981 953 126 353 673 325  44 995 160   8 183  39 457 799 686 669 192 836\n",
      " 649 361 271 481 957 783 585 326 610 127 334 622 556 381 599  97 559 143\n",
      " 176 800 333 662 197  81 792  12 365 359 569 415 746 809 445 782 441 650\n",
      " 532 811 852 623 849  30 854 467 419 977 315   0 321 626 240 529  87 421\n",
      " 839 418 214  94 755 631 905  47 157 580 302 494 451 466  71 859 484 842\n",
      " 216 522 704  75 634 672 260 316 362 500 400  69 877 826 798 637 858 294\n",
      " 838 511 390 249 406 136 155 993 274 926 119 773 536 122 296 775 317 945\n",
      " 510 225 199 189 480  28 709 693 261 734 426  58 509 502 278 258 869 450\n",
      " 162 573 198 410 102 716  60 507  37 883 960 476   6 229 541  90 548  11\n",
      " 936 464  96 722 776 630 403   3 346 452 886 948 761 485 768 275 586 583\n",
      " 808 632 935 257  18 881 287 752 288 385 180 705 394 413 902 880  55 629\n",
      "  13 520 824 453 113 764 661 498 687 727 251 384 759 370 757 153 218 674\n",
      " 167 692 976 563 231  95 542 862 398 822  22 756 247 283 366 235 931 856\n",
      " 282 754 534 984 124 149 614 447 543 222 772 469 904 515 549 785 308 929\n",
      " 603 123 461 946 739 497 290 979 207 284 914  34 487 895 313 865 161  52\n",
      "  10 256  66 226 737 736 456 268 423 949 141 899 624 928 513 609 572 690\n",
      "  36 735 908 689 299 279 663 831 175 703 605 539 250 331 853 475 983 742\n",
      " 320 866 194 454  27 654 618 557  62 178 358 845 276 430 996 495 570 990\n",
      " 967 341 230 795  67 675 238 588 486 460 468 986 187 753 152 272 108 639\n",
      " 186  65 103 611  33 915 698 531 592 405 597 947 789 311 491 941  20 888\n",
      "  59 118 575 203 784  19 133 200 209 489 169 989 179 165 115 694 470 942\n",
      " 269 897  99 577 411 114 770  42 228 104 724  40 718 958 318 814 530 872\n",
      " 297 138 968 535 823 864 732 504 670 651 508 982 750 793 488 558 725 506\n",
      " 702  77  78  56 744 371 900 514 790 270 738 848 245 407 956  70 147 885\n",
      " 236 291 731 786 980 202 591 779 360 562]\n"
     ]
    }
   ],
   "source": [
    "# Create a rank 1 ndarray that contains a random permutation of the row indices of `X_norm`\n",
    "row_indices =np.random.permutation(X_norm.shape[0])\n",
    "print(row_indices)"
   ]
  },
  {
   "cell_type": "code",
   "execution_count": 105,
   "id": "10b970f8",
   "metadata": {},
   "outputs": [
    {
     "name": "stdout",
     "output_type": "stream",
     "text": [
      "(600, 20)\n",
      "(200, 20)\n",
      "(200, 20)\n"
     ]
    }
   ],
   "source": [
    "# Create a Training Set\n",
    "sixty = int(len(X_norm)*0.6)\n",
    "eighty = int(len(X_norm)*0.8)\n",
    "\n",
    "# Create a Training Set\n",
    "X_train = X_norm[row_indices[:sixty],:]\n",
    "\n",
    "# Create a Cross Validation Set\n",
    "X_crossVal = X_norm[row_indices[sixty:eighty],:]\n",
    "\n",
    "# Create a Test Set\n",
    "X_test =X_norm[row_indices[eighty:],:]\n",
    "\n",
    "# Print the shape of X_train\n",
    "print(X_train.shape)\n",
    "\n",
    "# Print the shape of X_crossVal\n",
    "print(X_crossVal.shape)\n",
    "\n",
    "# Print the shape of X_test\n",
    "print(X_test.shape)\n"
   ]
  },
  {
   "cell_type": "code",
   "execution_count": null,
   "id": "5cd38a1d",
   "metadata": {},
   "outputs": [],
   "source": []
  }
 ],
 "metadata": {
  "kernelspec": {
   "display_name": "Python 3 (ipykernel)",
   "language": "python",
   "name": "python3"
  },
  "language_info": {
   "codemirror_mode": {
    "name": "ipython",
    "version": 3
   },
   "file_extension": ".py",
   "mimetype": "text/x-python",
   "name": "python",
   "nbconvert_exporter": "python",
   "pygments_lexer": "ipython3",
   "version": "3.8.11"
  }
 },
 "nbformat": 4,
 "nbformat_minor": 5
}

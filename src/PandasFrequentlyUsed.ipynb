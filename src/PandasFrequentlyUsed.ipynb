{
 "cells": [
  {
   "cell_type": "code",
   "execution_count": 1,
   "id": "455c9fa5",
   "metadata": {},
   "outputs": [],
   "source": [
    "import pandas as pd\n",
    "import numpy as np\n",
    "\n"
   ]
  },
  {
   "cell_type": "code",
   "execution_count": 2,
   "id": "369472e5",
   "metadata": {},
   "outputs": [
    {
     "name": "stdout",
     "output_type": "stream",
     "text": [
      "eggs       30\n",
      "apples      6\n",
      "milk      Yes\n",
      "bread      No\n",
      "salad     Yes\n",
      "dtype: object\n",
      "[30 6 'Yes' 'No' 'Yes']\n",
      "Index(['eggs', 'apples', 'milk', 'bread', 'salad'], dtype='object')\n",
      "Dim 1 - Shape (5,) - Size 5\n",
      "True\n"
     ]
    }
   ],
   "source": [
    "groceries = pd.Series(data=[30,6,'Yes','No','Yes'],index=['eggs','apples','milk','bread','salad'])\n",
    "print(groceries)\n",
    "print(groceries.values)\n",
    "print(groceries.index)\n",
    "print(\"Dim {} - Shape {} - Size {}\".format(groceries.ndim,groceries.shape, groceries.size))\n",
    "print('eggs' in groceries)"
   ]
  },
  {
   "cell_type": "code",
   "execution_count": 3,
   "id": "e9a21ff0",
   "metadata": {},
   "outputs": [
    {
     "name": "stdout",
     "output_type": "stream",
     "text": [
      "apples     6\n",
      "bread     No\n",
      "dtype: object\n",
      "apples     6\n",
      "bread     No\n",
      "dtype: object\n",
      "eggs     30\n",
      "bread    No\n",
      "dtype: object\n",
      "Yes\n",
      "eggs       30\n",
      "apples      6\n",
      "bread      No\n",
      "salad     Yes\n",
      "dtype: object\n"
     ]
    }
   ],
   "source": [
    "#accessing pandas series with either label or integer index and loc vs iloc\n",
    "print(groceries[['apples','bread']])\n",
    "print(groceries.loc[['apples','bread']])\n",
    "print(groceries.iloc[[0,3]])\n",
    "print(groceries[-1])\n",
    "\n",
    "groceries.drop('milk',inplace=True)\n",
    "print(groceries)\n",
    "\n",
    "\n"
   ]
  },
  {
   "cell_type": "code",
   "execution_count": 4,
   "id": "6d7a06c1",
   "metadata": {},
   "outputs": [
    {
     "name": "stdout",
     "output_type": "stream",
     "text": [
      "mangoes     5\n",
      "apples     10\n",
      "pears      12\n",
      "grapes      6\n",
      "dtype: int64\n",
      "mangoes    10\n",
      "apples     20\n",
      "pears      24\n",
      "grapes     12\n",
      "dtype: int64\n",
      "mangoes    2.236068\n",
      "apples     3.162278\n",
      "pears      3.464102\n",
      "grapes     2.449490\n",
      "dtype: float64\n",
      "50\n"
     ]
    }
   ],
   "source": [
    "#arithmetic operations on pandas series\n",
    "fruits = pd.Series(data=[5, 10, 12, 6],index=['mangoes','apples','pears','grapes'])\n",
    "print(fruits)                        \n",
    "print(fruits*2)\n",
    "print(np.sqrt(fruits))\n",
    "print(fruits[1]*5)"
   ]
  },
  {
   "cell_type": "code",
   "execution_count": 5,
   "id": "da8185a8",
   "metadata": {},
   "outputs": [
    {
     "name": "stdout",
     "output_type": "stream",
     "text": [
      "        india    usa  china\n",
      "apples   25.0  100.0    NaN\n",
      "durian    NaN    NaN   50.0\n",
      "guava    50.0    NaN    NaN\n",
      "kiwi      NaN   50.0   75.0\n",
      "lychee    NaN    NaN   80.0\n",
      "mango   100.0    NaN    NaN\n",
      "pluot     NaN  100.0    NaN\n"
     ]
    }
   ],
   "source": [
    "#Dataframe\n",
    "#Crate a dictionary\n",
    "\n",
    "fruits = {\n",
    "    'india': pd.Series(data=[100,50,25],index=['mango','guava','apples']),\n",
    "    'usa': pd.Series(data=[100,100,50],index=['pluot','apples','kiwi']),\n",
    "    'china': pd.Series(data=[50,80,75],index=['durian','lychee','kiwi'])\n",
    "}\n",
    "\n",
    "df = pd.DataFrame(fruits)\n",
    "print(df)"
   ]
  },
  {
   "cell_type": "code",
   "execution_count": 6,
   "id": "90654412",
   "metadata": {},
   "outputs": [
    {
     "name": "stdout",
     "output_type": "stream",
     "text": [
      "        india    usa\n",
      "apples   25.0  100.0\n",
      "durian    NaN    NaN\n",
      "guava    50.0    NaN\n",
      "kiwi      NaN   50.0\n",
      "lychee    NaN    NaN\n",
      "mango   100.0    NaN\n",
      "pluot     NaN  100.0 <class 'pandas.core.frame.DataFrame'>\n",
      "\n",
      " india     25.0\n",
      "usa      100.0\n",
      "china      NaN\n",
      "Name: apples, dtype: float64 <class 'pandas.core.series.Series'>\n",
      "\n",
      " 50.0\n"
     ]
    }
   ],
   "source": [
    "#select from dataframe\n",
    "#access column\n",
    "print(df[['india','usa']],type(df[['india','usa']]))\n",
    "#access rows\n",
    "print(\"\\n\",df.loc['apples'],type(df.loc['apples']))\n",
    "#access rows and column\n",
    "print(\"\\n\",df['india']['guava'])"
   ]
  },
  {
   "cell_type": "code",
   "execution_count": 7,
   "id": "7b73c92e",
   "metadata": {},
   "outputs": [
    {
     "name": "stdout",
     "output_type": "stream",
     "text": [
      "        india    usa  china  canada\n",
      "apples   25.0  100.0    NaN   200.0\n",
      "durian    NaN    NaN   50.0     NaN\n",
      "guava    50.0    NaN    NaN     NaN\n",
      "kiwi      NaN   50.0   75.0   150.0\n",
      "lychee    NaN    NaN   80.0     NaN\n",
      "mango   100.0    NaN    NaN     NaN\n",
      "pluot     NaN  100.0    NaN     NaN\n",
      "          usa  canada\n",
      "apples  100.0   200.0\n",
      "durian    NaN     NaN\n",
      "guava     NaN     NaN\n",
      "kiwi     50.0   150.0\n",
      "lychee    NaN     NaN\n",
      "mango     NaN     NaN\n",
      "pluot   100.0     NaN\n",
      "        india    usa  china  canada  usa+canada\n",
      "apples   25.0  100.0    NaN   200.0       300.0\n",
      "durian    NaN    NaN   50.0     NaN         NaN\n",
      "guava    50.0    NaN    NaN     NaN         NaN\n",
      "kiwi      NaN   50.0   75.0   150.0       200.0\n",
      "lychee    NaN    NaN   80.0     NaN         NaN\n",
      "mango   100.0    NaN    NaN     NaN         NaN\n",
      "pluot     NaN  100.0    NaN     NaN         NaN\n",
      "         india     usa  china  canada  usa+canada\n",
      "apples    25.0   100.0    NaN   200.0       300.0\n",
      "durian     NaN     NaN   50.0     NaN         NaN\n",
      "guava     50.0     NaN    NaN     NaN         NaN\n",
      "kiwi       NaN    50.0   75.0   150.0       200.0\n",
      "lychee     NaN     NaN   80.0     NaN         NaN\n",
      "mango    100.0     NaN    NaN     NaN         NaN\n",
      "pluot      NaN   100.0    NaN     NaN         NaN\n",
      "bananas  500.0  1000.0  300.0   100.0      1100.0\n"
     ]
    }
   ],
   "source": [
    "#add a column\n",
    "df['canada']=pd.Series(data = [200,150], index = ['apples','kiwi'])\n",
    "print(df)\n",
    "#add a column based on sum of two columns\n",
    "print(df[['usa','canada']])\n",
    "df['usa+canada'] = df['usa'] + df['canada']\n",
    "print(df)\n",
    "\n",
    "#add a row\n",
    "df.loc['bananas'] = pd.Series(data=[500,1000,300,100,1100],index=df.columns)\n",
    "print(df)"
   ]
  },
  {
   "cell_type": "code",
   "execution_count": 8,
   "id": "f5740567",
   "metadata": {},
   "outputs": [
    {
     "name": "stdout",
     "output_type": "stream",
     "text": [
      "40\n",
      "22\n",
      "         india     usa  china  canada  usa+canada\n",
      "bananas  500.0  1000.0  300.0   100.0      1100.0\n",
      "Empty DataFrame\n",
      "Columns: []\n",
      "Index: [apples, durian, guava, kiwi, lychee, mango, pluot, bananas]\n",
      "         india     usa  china  canada  usa+canada\n",
      "apples    25.0   100.0    1.0   200.0       300.0\n",
      "durian     1.0     1.0   50.0     1.0         1.0\n",
      "guava     50.0     1.0    1.0     1.0         1.0\n",
      "kiwi       1.0    50.0   75.0   150.0       200.0\n",
      "lychee     1.0     1.0   80.0     1.0         1.0\n",
      "mango    100.0     1.0    1.0     1.0         1.0\n",
      "pluot      1.0   100.0    1.0     1.0         1.0\n",
      "bananas  500.0  1000.0  300.0   100.0      1100.0\n",
      "\n",
      "\n",
      "          india     usa  china  canada  usa+canada\n",
      "apples    25.0   100.0    NaN   200.0       300.0\n",
      "durian     NaN     NaN   50.0     NaN         NaN\n",
      "guava     50.0     NaN    NaN     NaN         NaN\n",
      "kiwi       NaN    50.0   75.0   150.0       200.0\n",
      "lychee     NaN     NaN   80.0     NaN         NaN\n",
      "mango    100.0     NaN    NaN     NaN         NaN\n",
      "pluot      NaN   100.0    NaN     NaN         NaN\n",
      "bananas  500.0  1000.0  300.0   100.0      1100.0\n",
      "\n",
      "          india     usa  china  canada  usa+canada\n",
      "apples    25.0   100.0    NaN   200.0       300.0\n",
      "durian    25.0   100.0   50.0   200.0       300.0\n",
      "guava     50.0   100.0   50.0   200.0       300.0\n",
      "kiwi      50.0    50.0   75.0   150.0       200.0\n",
      "lychee    50.0    50.0   80.0   150.0       200.0\n",
      "mango    100.0    50.0   80.0   150.0       200.0\n",
      "pluot    100.0   100.0   80.0   150.0       200.0\n",
      "bananas  500.0  1000.0  300.0   100.0      1100.0\n",
      "\n",
      "          india     usa  china  canada  usa+canada\n",
      "apples    25.0   100.0   50.0   200.0       300.0\n",
      "durian    50.0    50.0   50.0   150.0       200.0\n",
      "guava     50.0    50.0   75.0   150.0       200.0\n",
      "kiwi     100.0    50.0   75.0   150.0       200.0\n",
      "lychee   100.0   100.0   80.0   100.0      1100.0\n",
      "mango    100.0   100.0  300.0   100.0      1100.0\n",
      "pluot    500.0   100.0  300.0   100.0      1100.0\n",
      "bananas  500.0  1000.0  300.0   100.0      1100.0\n",
      "\n",
      "               india          usa       china      canada   usa+canada\n",
      "apples    25.000000   100.000000         NaN  200.000000   300.000000\n",
      "durian    37.500000    83.333333   50.000000  183.333333   266.666667\n",
      "guava     50.000000    66.666667   62.500000  166.666667   233.333333\n",
      "kiwi      66.666667    50.000000   75.000000  150.000000   200.000000\n",
      "lychee    83.333333    66.666667   80.000000  137.500000   425.000000\n",
      "mango    100.000000    83.333333  153.333333  125.000000   650.000000\n",
      "pluot    300.000000   100.000000  226.666667  112.500000   875.000000\n",
      "bananas  500.000000  1000.000000  300.000000  100.000000  1100.000000\n",
      "\n",
      " india         168.750000\n",
      "usa           312.500000\n",
      "china         126.250000\n",
      "canada        150.000000\n",
      "usa+canada    533.333333\n",
      "dtype: float64\n"
     ]
    }
   ],
   "source": [
    "#Dealing with NAN values\n",
    "#Sumarize nan values\n",
    "print(df.size)\n",
    "print(df.isnull().sum().sum())\n",
    "\n",
    "# Drop NAN columns\n",
    "print(df.dropna(axis=0))\n",
    "print(df.dropna(axis=1))\n",
    "#Fill nan values with zeros\n",
    "print(df.fillna(1))\n",
    "\n",
    "#Ffill and backfill\n",
    "print(\"\\n\\n\",df)\n",
    "print(\"\\n\",df.fillna(method='ffill',axis=0))\n",
    "print(\"\\n\",df.fillna(method='backfill',axis=0))\n",
    "#Interpolate\n",
    "print(\"\\n\",df.interpolate(method='linear',axis=0))\n",
    "\n",
    "print(\"\\n\",df.mean())\n",
    "\n"
   ]
  },
  {
   "cell_type": "code",
   "execution_count": 12,
   "id": "9710c61d",
   "metadata": {},
   "outputs": [
    {
     "name": "stdout",
     "output_type": "stream",
     "text": [
      "         Date       Open       High        Low      Close  Adj Close    Volume\n",
      "0  2004-08-19  49.676899  51.693783  47.669952  49.845802  49.845802  44994500\n",
      "1  2004-08-20  50.178635  54.187561  49.925285  53.805050  53.805050  23005800\n",
      "2  2004-08-23  55.017166  56.373344  54.172661  54.346527  54.346527  18393200\n",
      "3  2004-08-24  55.260582  55.439419  51.450363  52.096165  52.096165  15361800\n",
      "4  2004-08-25  52.140873  53.651051  51.604362  52.657513  52.657513   9257400\n",
      "(3313, 7)\n",
      "\n",
      " Date         0\n",
      "Open         0\n",
      "High         0\n",
      "Low          0\n",
      "Close        0\n",
      "Adj Close    0\n",
      "Volume       0\n",
      "dtype: int64\n",
      "\n",
      "               Open         High          Low        Close    Adj Close  \\\n",
      "count  3313.000000  3313.000000  3313.000000  3313.000000  3313.000000   \n",
      "mean    380.186092   383.493740   376.519309   380.072458   380.072458   \n",
      "std     223.818650   224.974534   222.473232   223.853780   223.853780   \n",
      "min      49.274517    50.541279    47.669952    49.681866    49.681866   \n",
      "25%     226.556473   228.394516   224.003082   226.407440   226.407440   \n",
      "50%     293.312286   295.433502   289.929291   293.029114   293.029114   \n",
      "75%     536.650024   540.000000   532.409973   536.690002   536.690002   \n",
      "max     992.000000   997.210022   989.000000   989.679993   989.679993   \n",
      "\n",
      "             Volume  \n",
      "count  3.313000e+03  \n",
      "mean   8.038476e+06  \n",
      "std    8.399521e+06  \n",
      "min    7.900000e+03  \n",
      "25%    2.584900e+06  \n",
      "50%    5.281300e+06  \n",
      "75%    1.065370e+07  \n",
      "max    8.276810e+07  \n",
      "\n",
      " 992.0\n",
      "            india       usa  china    canada  usa+canada\n",
      "india         1.0  1.000000    NaN -1.000000    1.000000\n",
      "usa           1.0  1.000000    1.0 -0.841698    0.998501\n",
      "china         NaN  1.000000    1.0 -1.000000    1.000000\n",
      "canada       -1.0 -0.841698   -1.0  1.000000   -0.810885\n",
      "usa+canada    1.0  0.998501    1.0 -0.810885    1.000000\n"
     ]
    }
   ],
   "source": [
    "df1 = pd.read_csv('data/GOOG.csv')\n",
    "print(df1.head())\n",
    "print(df1.shape)\n",
    "print(\"\\n\",df1.isnull().sum())\n",
    "print(\"\\n\",df1.describe())\n",
    "print(\"\\n\",df1['Open'].max())\n",
    "\n",
    "#statistical corelation\n",
    "print(df.corr())"
   ]
  },
  {
   "cell_type": "code",
   "execution_count": 13,
   "id": "6be592c8",
   "metadata": {},
   "outputs": [
    {
     "name": "stdout",
     "output_type": "stream",
     "text": [
      "   Year     Name Department  Age  Salary\n",
      "0  1990    Alice         HR   25   50000\n",
      "1  1990      Bob         RD   30   48000\n",
      "2  1990  Charlie      Admin   45   55000\n",
      "3  1991   Dakota         HR   26   52000\n",
      "4  1991     Elsa         RD   31   50000\n",
      "\n",
      " Year          0\n",
      "Name          0\n",
      "Department    0\n",
      "Age           0\n",
      "Salary        0\n",
      "dtype: int64\n",
      "\n",
      "               Year        Age        Salary\n",
      "count     9.000000   9.000000      9.000000\n",
      "mean   1991.000000  32.222222  54333.333333\n",
      "std       0.866025   7.870479   5147.815070\n",
      "min    1990.000000  25.000000  48000.000000\n",
      "25%    1990.000000  27.000000  50000.000000\n",
      "50%    1991.000000  30.000000  52000.000000\n",
      "75%    1992.000000  32.000000  60000.000000\n",
      "max    1992.000000  46.000000  62000.000000\n",
      "\n",
      " Year\n",
      "1990    153000\n",
      "1991    162000\n",
      "1992    174000\n",
      "Name: Salary, dtype: int64\n",
      "\n",
      " Year\n",
      "1990    51000.0\n",
      "1991    54000.0\n",
      "1992    58000.0\n",
      "Name: Salary, dtype: float64\n",
      "\n",
      " Year  Department\n",
      "1990  Admin         55000.0\n",
      "      HR            50000.0\n",
      "      RD            48000.0\n",
      "1991  Admin         60000.0\n",
      "      HR            52000.0\n",
      "      RD            50000.0\n",
      "1992  Admin         61000.0\n",
      "      RD            52000.0\n",
      "Name: Salary, dtype: float64\n"
     ]
    }
   ],
   "source": [
    "df2 = pd.read_csv('data/fake-company.csv')\n",
    "print(df2.head())\n",
    "print(\"\\n\",df2.isnull().sum())\n",
    "print(\"\\n\",df2.describe())\n",
    "\n",
    "#using group by\n",
    "print(\"\\n\",df2.groupby(['Year'])['Salary'].sum())\n",
    "\n",
    "print(\"\\n\",df2.groupby(['Year'])['Salary'].mean())\n",
    "\n",
    "print(\"\\n\",df2.groupby(['Year','Department'])['Salary'].mean())"
   ]
  },
  {
   "cell_type": "code",
   "execution_count": 14,
   "id": "e08761a3",
   "metadata": {},
   "outputs": [
    {
     "name": "stdout",
     "output_type": "stream",
     "text": [
      "            Adj Close\n",
      "Date                 \n",
      "2004-08-19  49.845802\n",
      "2004-08-20  53.805050\n",
      "2004-08-23  54.346527\n",
      "2004-08-24  52.096165\n",
      "2004-08-25  52.657513\n",
      "            google     apple   amazon\n",
      "2000-01-01     NaN       NaN      NaN\n",
      "2000-01-02     NaN       NaN      NaN\n",
      "2000-01-03     NaN  3.596616  89.3750\n",
      "2000-01-04     NaN  3.293384  81.9375\n",
      "2000-01-05     NaN  3.341579  69.7500\n",
      "            google        apple       amazon\n",
      "count  3115.000000  4277.000000  4277.000000\n",
      "mean    347.420229    35.222976   166.095436\n",
      "std     187.671596    37.945557   189.212345\n",
      "min      49.681866     0.843106     5.970000\n",
      "25%     220.088539     3.221090    38.009998\n",
      "50%     286.397247    17.524017    76.980003\n",
      "75%     508.255340    64.533600   243.919998\n",
      "max     813.109985   126.941574   844.359985\n",
      "google    3095\n",
      "apple     1933\n",
      "amazon    1933\n",
      "dtype: int64\n",
      "google    0\n",
      "apple     0\n",
      "amazon    0\n",
      "dtype: int64\n"
     ]
    }
   ],
   "source": [
    "#load 2 cols form three file and use one col as index and then treat dates correctly\n",
    "dfgoog =  pd.read_csv('data/GOOG.csv',index_col=['Date'],parse_dates=True,usecols=['Date','Adj Close'])\n",
    "dfappl = pd.read_csv('data/AAPL.csv',index_col=['Date'],parse_dates=True,usecols=['Date','Adj Close'])\n",
    "dfamzn = pd.read_csv('data/AMZN.csv',index_col=['Date'],parse_dates=True,usecols=['Date','Adj Close'])\n",
    "\n",
    "print(dfgoog.head())\n",
    "\n",
    "#create a new dataframe starting with a date range and join all others into it\n",
    "dates = pd.date_range('2000-01-01', '2016-12-31')\n",
    "\n",
    "# We create and empty DataFrame that uses the above dates as indices\n",
    "all_stocks = pd.DataFrame(index = dates)\n",
    "all_stocks.head()\n",
    "\n",
    "#rename columns in each dataframe for goog, appl , amzn\n",
    "dfgoog= dfgoog.rename(columns={'Adj Close':'google'})\n",
    "dfappl = dfappl.rename(columns={'Adj Close':'apple'})\n",
    "dfamzn = dfamzn.rename(columns={'Adj Close':'amazon'})\n",
    "#join other dataframes to this one\n",
    "all_stocks = all_stocks.join(dfgoog).join(dfappl).join(dfamzn)\n",
    "print(all_stocks.head())\n",
    "\n",
    "print(all_stocks.describe())\n",
    "print(all_stocks.isnull().sum())\n",
    "#drop all rows with NAN values\n",
    "all_stocks.dropna(axis=0,inplace=True)\n",
    "print(all_stocks.isnull().sum())"
   ]
  },
  {
   "cell_type": "code",
   "execution_count": 16,
   "id": "cbc42598",
   "metadata": {},
   "outputs": [
    {
     "name": "stdout",
     "output_type": "stream",
     "text": [
      "2004-08-19           NaN\n",
      "2004-08-20           NaN\n",
      "2004-08-23           NaN\n",
      "2004-08-24           NaN\n",
      "2004-08-25           NaN\n",
      "                 ...    \n",
      "2016-12-23    758.236666\n",
      "2016-12-27    758.713066\n",
      "2016-12-28    759.111599\n",
      "2016-12-29    759.502732\n",
      "2016-12-30    759.763799\n",
      "Name: google, Length: 3115, dtype: float64\n"
     ]
    }
   ],
   "source": [
    "#list some statistics of each stock and create a rolling min window of 150\n",
    "rollingmean = all_stocks['google'].rolling(150).mean()\n",
    "print(rollingmean)\n"
   ]
  },
  {
   "cell_type": "code",
   "execution_count": null,
   "id": "146a0bf8",
   "metadata": {
    "scrolled": true
   },
   "outputs": [
    {
     "data": {
      "text/plain": [
       "<matplotlib.legend.Legend at 0x7fca8d6991f0>"
      ]
     },
     "execution_count": 17,
     "metadata": {},
     "output_type": "execute_result"
    }
   ],
   "source": [
    "#matplot lib google pricce and its rolling average\n",
    "%matplotlib inline\n",
    "import matplotlib.pyplot as plt\n",
    "\n",
    "plt.plot(all_stocks['google'])\n",
    "plt.plot(rollingmean)\n",
    "\n",
    "plt.legend(['Google Stock Price', 'Rolling Mean'])"
   ]
  },
  {
   "cell_type": "code",
   "execution_count": null,
   "id": "ecae31b3",
   "metadata": {},
   "outputs": [],
   "source": []
  }
 ],
 "metadata": {
  "kernelspec": {
   "display_name": "Python 3 (ipykernel)",
   "language": "python",
   "name": "python3"
  },
  "language_info": {
   "codemirror_mode": {
    "name": "ipython",
    "version": 3
   },
   "file_extension": ".py",
   "mimetype": "text/x-python",
   "name": "python",
   "nbconvert_exporter": "python",
   "pygments_lexer": "ipython3",
   "version": "3.8.11"
  }
 },
 "nbformat": 4,
 "nbformat_minor": 5
}
